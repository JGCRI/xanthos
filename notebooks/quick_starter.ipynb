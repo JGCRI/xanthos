{
 "cells": [
  {
   "cell_type": "markdown",
   "metadata": {
    "pycharm": {
     "name": "#%% md\n"
    }
   },
   "source": [
    "# Getting Started with Xanthos"
   ]
  },
  {
   "cell_type": "markdown",
   "metadata": {
    "pycharm": {
     "name": "#%% md\n"
    }
   },
   "source": [
    "In this section, we will introduce\n",
    "* How to install and run xanthos\n",
    "* How to use Xanthos functions"
   ]
  },
  {
   "cell_type": "markdown",
   "metadata": {
    "pycharm": {
     "name": "#%% md\n"
    }
   },
   "source": [
    "## Install Xanthos"
   ]
  },
  {
   "cell_type": "markdown",
   "metadata": {
    "pycharm": {
     "name": "#%% md\n"
    }
   },
   "source": [
    "* Download and install Python (>= 3.6).\n",
    "* From a command prompt, install the latest Xanthos version from Github using\n",
    "> `python -m pip install git+https://github.com/JGCRI/xanthos.git`\n",
    "* (Optional) Clone Xanthos to your local folder if you would like to make modifications to `Xanthos`. From a command prompt, navigate to your preferred location, and clone `Xanthos`.\n",
    "> `git clone https://github.com/JGCRI/xanthos.git`"
   ]
  },
  {
   "cell_type": "markdown",
   "metadata": {
    "pycharm": {
     "name": "#%% md\n"
    }
   },
   "source": [
    "## Download Example Data"
   ]
  },
  {
   "cell_type": "markdown",
   "source": [
    "`Xanthos` provides a function `get_package_data` to retrieve and download example data. The example data provided in this tutorial uses WATCH climate forcing data from 1971 to 2001.\n",
    "\n",
    "To download, open a python console. Make sure to change the `data_dir` to your preferred location. This could take about 10 minutes."
   ],
   "metadata": {
    "collapsed": false,
    "pycharm": {
     "name": "#%% md\n"
    }
   }
  },
  {
   "cell_type": "code",
   "execution_count": null,
   "outputs": [],
   "source": [
    "import xanthos\n",
    "\n",
    "# the directory that you want to download and extract the example data to\n",
    "data_dir = '<my data download location>'\n",
    "\n",
    "# download and unzip the package data to your local machine\n",
    "xanthos.get_package_data(data_dir)"
   ],
   "metadata": {
    "collapsed": false,
    "pycharm": {
     "name": "#%%\n"
    }
   }
  },
  {
   "cell_type": "markdown",
   "source": [
    "## Setup the Configuration File"
   ],
   "metadata": {
    "collapsed": false,
    "pycharm": {
     "name": "#%% md\n"
    }
   }
  },
  {
   "cell_type": "markdown",
   "source": [
    "Setup your configuration file (.ini). Examples are located in the `example` directory that you just downloaded. Make sure to change the following variables to represent the local path to your example data: `RootDir`, `TempMinFile`, `PrecipitationFile`. Let's take a look at the example configuration file `pm_abcd_mrtm.ini`."
   ],
   "metadata": {
    "collapsed": false,
    "pycharm": {
     "name": "#%% md\n"
    }
   }
  },
  {
   "cell_type": "code",
   "execution_count": null,
   "outputs": [],
   "source": [
    "import os\n",
    "\n",
    "# root directory\n",
    "data_dir = '<my data download location>'\n",
    "\n",
    "# the path and file name that my example configuration (.ini) file was downloaded to\n",
    "config_file = os.path.join(data_dir, 'example', 'pm_abcd_mrtm.ini')\n",
    "\n",
    "# take a look at configuration file\n",
    "f = open(config_file, 'r')\n",
    "print(f.read())\n",
    "    \n",
    "f.close()"
   ],
   "metadata": {
    "collapsed": false,
    "pycharm": {
     "name": "#%%\n"
    }
   }
  },
  {
   "cell_type": "markdown",
   "source": [
    "## Run Xanthos"
   ],
   "metadata": {
    "collapsed": false,
    "pycharm": {
     "name": "#%% md\n"
    }
   }
  },
  {
   "cell_type": "markdown",
   "source": [
    "To run xanthos, pass the path of the configuration file to `xanthos.run_model`."
   ],
   "metadata": {
    "collapsed": false,
    "pycharm": {
     "name": "#%% md\n"
    }
   }
  },
  {
   "cell_type": "code",
   "execution_count": null,
   "outputs": [],
   "source": [
    "import xanthos\n",
    "\n",
    "# run Xanthos \n",
    "xanthos.run_model(config_file)"
   ],
   "metadata": {
    "collapsed": false,
    "pycharm": {
     "name": "#%%\n"
    }
   }
  },
  {
   "cell_type": "markdown",
   "source": [
    "## Use Xanthos Module"
   ],
   "metadata": {
    "collapsed": false,
    "pycharm": {
     "name": "#%% md\n"
    }
   }
  },
  {
   "cell_type": "markdown",
   "source": [
    "User can use any Xantho module individually by providing required input. The following example shows how to calculate accessible water using the `AccessibleWater` module. `AccessibleWater` module requires three inputs: \n",
    "1. Configuration object: use xanthos module `ConfigReader` to load\n",
    "2. Loaded data object: use xanthos module `DataLoader` to load\n",
    "3. Monthly runoff in each grid cell\n",
    "    * Format requirement: 2D array ordered by Xanthos id for [grid_cell, month].\n",
    "    * Grid cell resolution: Xanthos grid cell is at 0.5 degree xanthos grid resolution and the id is from 1 to 67420. Please find latitude and longitude for Xanthos grid cells in `example/input/referece/coordinate.csv`.\n",
    "    * Unit requirement: the runoff values should be in mm/month.\n",
    "    * Note: please make sure the monthly runoff has the same time period specified in the configuration file"
   ],
   "metadata": {
    "collapsed": false,
    "pycharm": {
     "name": "#%% md\n"
    }
   }
  },
  {
   "cell_type": "code",
   "execution_count": null,
   "outputs": [],
   "source": [
    "import numpy as np\n",
    "from xanthos import ConfigReader\n",
    "from xanthos.data_reader.data_load import DataLoader\n",
    "from xanthos.accessible.accessible import AccessibleWater\n",
    "\n",
    "# since we do not have monthly runoff, we make a ramdom example of runoff time seris\n",
    "# the runoff data will be 67420 grid cells by 372 months (match 1971 - 2001 in the configuration)\n",
    "runoff = np.random.random((67420, 372))\n",
    "\n",
    "# load configuration setting using ConfigReader\n",
    "config = ConfigReader(ini=config_file)\n",
    "\n",
    "# Create a demo folder \n",
    "demo_dir = os.path.join(data_dir, 'example', 'output', 'demo')\n",
    "if not os.path.exists(demo_dir):\n",
    "    os.makedirs(demo_dir, exist_ok=True)\n",
    "\n",
    "# Update the output folder path to demo folder to avoid overwriting the exisitng file\n",
    "config.OutputFolder = demo_dir\n",
    "config.update({})\n",
    "\n",
    "# load reference data\n",
    "data = DataLoader(config_obj=config)\n",
    "\n",
    "# calculate accessible water (~ 15 seconds)\n",
    "AccessibleWater(settings=config, ref=data, runoff=runoff)"
   ],
   "metadata": {
    "collapsed": false,
    "pycharm": {
     "name": "#%%\n"
    }
   }
  },
  {
   "cell_type": "markdown",
   "source": [
    "***"
   ],
   "metadata": {
    "collapsed": false,
    "pycharm": {
     "name": "#%% md\n"
    }
   }
  },
  {
   "cell_type": "markdown",
   "source": [
    "# Input and Output Data"
   ],
   "metadata": {
    "collapsed": false,
    "pycharm": {
     "name": "#%% md\n"
    }
   }
  },
  {
   "cell_type": "markdown",
   "source": [
    "In this section, we will\n",
    "* Learn the data format for Xanthos inputs and outputs\n",
    "* Visualize Xanthos inputs and outputs"
   ],
   "metadata": {
    "collapsed": false,
    "pycharm": {
     "name": "#%% md\n"
    }
   }
  },
  {
   "cell_type": "markdown",
   "source": [
    "## Plotting Functions"
   ],
   "metadata": {
    "collapsed": false,
    "pycharm": {
     "name": "#%% md\n"
    }
   }
  },
  {
   "cell_type": "code",
   "execution_count": null,
   "outputs": [],
   "source": [
    "import xanthos\n",
    "\n",
    "import os\n",
    "from scipy import stats\n",
    "import pandas as pd\n",
    "import numpy as np\n",
    "\n",
    "import matplotlib.pyplot as plt\n",
    "import matplotlib.colors as colors\n",
    "import matplotlib.cbook as cbook\n",
    "from matplotlib import cm\n",
    "import seaborn as sns\n",
    "\n",
    "def name_columns(arr, start_yr=1971):\n",
    "    \"\"\"\n",
    "    find cooresponding year month names for the array.\n",
    "\n",
    "    :param arr:             array with format [grid by year-month]\n",
    "    :param start_yr:        integer of data start year\n",
    "\n",
    "    :return:                string vector and dictionary\n",
    "    \"\"\"\n",
    "\n",
    "    cols_str = []\n",
    "    cols_dict = {}\n",
    "    for i in range(0, arr.shape[1], 1):\n",
    "        mod = i%12\n",
    "        str_yr = str(start_yr)\n",
    "\n",
    "        if mod == 0:\n",
    "            cols_str.append(str_yr)\n",
    "\n",
    "            if str_yr in cols_dict:\n",
    "                cols_dict[str_yr].append(i)\n",
    "            else:\n",
    "                cols_dict[str_yr] = [i]\n",
    "\n",
    "        elif mod == 11:\n",
    "            cols_str.append(str_yr)\n",
    "\n",
    "            if str_yr in cols_dict:\n",
    "                cols_dict[str_yr].append(i)\n",
    "            else:\n",
    "                cols_dict[str_yr] = [i]\n",
    "\n",
    "            start_yr += 1\n",
    "        else:\n",
    "            cols_str.append(str_yr)\n",
    "\n",
    "            if str_yr in cols_dict:\n",
    "                cols_dict[str_yr].append(i)\n",
    "            else:\n",
    "                cols_dict[str_yr] = [i]\n",
    "\n",
    "    return cols_str, cols_dict\n",
    "\n",
    "def arr_to_df(arr, stat='mean', start_yr=1971, from_yr=False, through_yr=False):\n",
    "    \"\"\"\n",
    "    Calculate certain stats on xanthos input array (usually climate data) and convert to certain data frame format.\n",
    "\n",
    "    :param arr:                 array for xanthos input or similar format [grid by year-month]\n",
    "    :param stat:                string for stats to apply ['min', 'max', 'mean', 'median']\n",
    "    :param start_yr:            integer for data start year\n",
    "    :param from_yr:             integer for start year to filter\n",
    "    :param through_yr:          integer for through year to filter\n",
    "\n",
    "    :return:                    data frame\n",
    "    \"\"\"\n",
    "\n",
    "    cols_str, cols_dict = name_columns(arr, start_yr=start_yr)\n",
    "\n",
    "    df = pd.DataFrame(data=arr, columns=cols_str)\n",
    "\n",
    "    # select target years to process\n",
    "    if from_yr:\n",
    "        idx_start = min(cols_dict[str(from_yr)])\n",
    "    else:\n",
    "        idx_start = 0\n",
    "\n",
    "    if through_yr:\n",
    "        idx_end = max(cols_dict[str(through_yr)])\n",
    "    else:\n",
    "        idx_end = df.shape[1]\n",
    "\n",
    "    df = df.iloc[:, idx_start:idx_end]\n",
    "\n",
    "    df['key'] = 'value'\n",
    "\n",
    "    if stat == 'mean':\n",
    "        dfx = df.groupby('key').mean().T\n",
    "    elif stat == 'max':\n",
    "        dfx = df.groupby('key').max().T\n",
    "    elif stat == 'min':\n",
    "        dfx = df.groupby('key').min().T\n",
    "    elif stat == 'median':\n",
    "        dfx = df.groupby('key').median().T\n",
    "    else:\n",
    "        raise ValueError(\"Please enter stat of 'mean', 'median', 'min', 'max'.\")\n",
    "\n",
    "    return dfx\n",
    "\n",
    "def format_data(sim, obs, id=229, from_yr=1971, through_yr=2010):\n",
    "    \"\"\"\n",
    "    Combine sim and obs and format to [basin_id, basin_name, year, time, obs, sim].\n",
    "\n",
    "    :param sim:                 data frame of xanthos output at basin scale\n",
    "    :param obs:                 data frame of observation [basin, year, month, q]\n",
    "    :param id:                  integer for selected basin id, or 'global' to aggregate all basins together\n",
    "    :param from_yr:             integer for start year to filter data\n",
    "    :param through_yr:          integer for end year to filter data\n",
    "\n",
    "    :return:                    data frame\n",
    "    \"\"\"\n",
    "\n",
    "    # melt all month_year columns to time and value for simulated output\n",
    "    sim_melt = sim.melt(id_vars=['id', 'name'])\n",
    "\n",
    "    # format simulated output\n",
    "    sim_melt = sim_melt.rename(columns={'id': 'basin', 'variable': 'year'})\n",
    "    sim_melt['year'] = sim_melt.year.astype(int)\n",
    "\n",
    "    # aggregate observation to annual\n",
    "    obs_annual = obs.groupby(['basin', 'year'], as_index=False).sum().drop(['month'], axis=1)\n",
    "\n",
    "    # merge observation and simulation\n",
    "    df = pd.merge(sim_melt, obs_annual, how='left', on=('basin', 'year'))\n",
    "    df = df.rename(columns={'value': 'sim', 'q': 'obs', 'basin':'basin_id', 'name': 'basin_name'})\n",
    "\n",
    "    # select basin and year range to plot\n",
    "    if id == 'global':\n",
    "        df_format = df[(df.year>=from_yr) & (df.year<=through_yr)].reset_index(drop=True)\n",
    "        df_format = df_format.groupby(['year'], as_index=False).sum()\n",
    "        df_format['basin_id'] = 'All Basins'\n",
    "        df_format['basin_name'] = id\n",
    "    else:\n",
    "        df_format = df[df.basin_id.isin(id) & (df.year>=from_yr) & (df.year<=through_yr)].reset_index(drop=True)\n",
    "\n",
    "    # add time\n",
    "    df_format['time'] = pd.to_datetime(df_format.year, format='%Y')\n",
    "\n",
    "    return df_format\n",
    "\n",
    "def plot_single_line(dfx, title='', x_label='', y_label=''):\n",
    "    \"\"\"\n",
    "    Plot a single time series.\n",
    "\n",
    "    :param dfx:             data frame with a column of values\n",
    "    :param title:           string for figure title\n",
    "    :param x_label:         string for x axis label\n",
    "    :param y_label:         string for y axis label\n",
    "    \"\"\"\n",
    "\n",
    "    # plt.figure()\n",
    "    with plt.style.context(\"seaborn-white\"):\n",
    "        fig, ax = plt.subplots(figsize=(16, 8), constrained_layout=False)\n",
    "        dfx.plot(kind='line', legend=False, title=title, colormap=\"cubehelix\", ax=ax)\n",
    "        ax.set_title(title)\n",
    "        ax.set_xlabel(x_label)\n",
    "        ax.set_ylabel(y_label)\n",
    "        ax.set_facecolor('white')\n",
    "        plt.show()\n",
    "\n",
    "def plot_comparison(df_plot, y_label=''):\n",
    "    \"\"\"\n",
    "    Plot comparison between observations and simulations.\n",
    "\n",
    "    :param df_plot:         data frame with time, obs and sim\n",
    "    :param y_label:         string for y axis label\n",
    "    \"\"\"\n",
    "\n",
    "    # title\n",
    "    title = str(df_plot['basin_id'].unique()[0]) + ' - ' + df_plot['basin_name'].unique()[0]\n",
    "\n",
    "    # Plot\n",
    "    with plt.style.context(\"seaborn-white\"):\n",
    "        fig, ax = plt.subplots(figsize=(10, 6), constrained_layout=False)\n",
    "        df_plot.plot(x = 'time', y=['obs', 'sim'], kind='line', color=['black', 'dodgerblue'],\n",
    "                     lw=3, legend=True, ax=ax)\n",
    "        ax.set_title(title, fontsize=18, fontweight='bold')\n",
    "        ax.set_xlabel('Time', fontsize=18)\n",
    "        ax.set_ylabel(y_label, fontsize=18)\n",
    "        plt.xticks(fontsize=16)\n",
    "        plt.yticks(fontsize=16)\n",
    "        ax.legend(fontsize=16)\n",
    "        ax.grid()\n",
    "        plt.show()\n",
    "    \n",
    "def plot_diagnostics(data, titlestr):\n",
    "    \"\"\"\n",
    "    Plot diagnostics.\n",
    "    \n",
    "    :param data:            array from diagnostic output\n",
    "    :param titlestr:        string for output scale ('Basin', 'Country', 'Region')\n",
    "    \"\"\"\n",
    "    \n",
    "    fig = plt.figure(figsize=(10,6), constrained_layout=False)\n",
    "    ax = plt.gca()\n",
    "    ax.loglog([0.01, 100000], [0.01, 100000], 'grey')\n",
    "    ax.scatter(data[:, 0], data[:, 1], c='aquamarine', alpha=0.7, edgecolors='black', label='VIC_1971-2000')\n",
    "    ax.scatter(data[:, 0], data[:, 2], c='salmon', alpha=0.7, edgecolors='black', label='WBM')\n",
    "    ax.scatter(data[:, 0], data[:, 3], c='Blue', alpha=0.7, edgecolors='black', label='WBMc')\n",
    "    ax.scatter(data[:, 0], data[:, 4], c='white', alpha=0.7, edgecolors='black', label='UNH/GRDC_1986-1995')\n",
    "    ax.set_yscale('log')\n",
    "    ax.set_xscale('log')\n",
    "    ax.axis([0.01, 1e5, 0.01, 1e5])\n",
    "    ax.legend(loc='lower right', bbox_to_anchor=(1, 0), fontsize=12)\n",
    "    plt.title('Hydro Model Diagnostics at ' + titlestr + ' Scale', fontsize=14, fontweight='bold')\n",
    "    plt.xlabel(r'Simulated Averaged Annual Runoff ($km^3$/yr)', fontsize=14)\n",
    "    plt.ylabel(r'Averaged Annual Runoff ($km^3$/yr)', fontsize=14)\n",
    "\n",
    "def plot_map(arr, coord, legend_label=None, cmap=None):\n",
    "    \"\"\"\n",
    "    Plot spatial map.\n",
    "    \n",
    "    :param arr:             array of grid cells by year-month\n",
    "    :param coord:           data frame for coordinates [lat, lon]\n",
    "    :param legend_label:    string for legend label\n",
    "    :param cmap:            string for color palette\n",
    "    \n",
    "    \"\"\"\n",
    "\n",
    "    cols_str, cols_dict = name_columns(tas, start_yr=1971)\n",
    "\n",
    "    df = pd.DataFrame(data=arr, columns=cols_str).mean(axis=1).rename('value')\n",
    "\n",
    "    df = pd.concat([df, coord], axis=1)\n",
    "\n",
    "    fig = plt.figure(figsize=(15,6), constrained_layout=True)\n",
    "    spec = fig.add_gridspec(1, 1)\n",
    "    ax = fig.add_subplot(spec[0, 0])\n",
    "    p = ax.scatter(df.lon, df.lat, s=3, c=df.value, cmap=cmap)\n",
    "    legend_kwds = {'label':legend_label,\n",
    "                   'shrink':1}\n",
    "\n",
    "    cbar = plt.colorbar(p, **legend_kwds)\n",
    "    cbar.ax.set_ylabel(legend_label, rotation=270)\n",
    "    plt.xlabel(\"Longitude\")\n",
    "    plt.ylabel(\"Latitude\")\n"
   ],
   "metadata": {
    "collapsed": false,
    "pycharm": {
     "name": "#%%\n"
    }
   }
  },
  {
   "cell_type": "markdown",
   "source": [
    "## Read Input and Output Data"
   ],
   "metadata": {
    "collapsed": false,
    "pycharm": {
     "name": "#%% md\n"
    }
   }
  },
  {
   "cell_type": "code",
   "execution_count": null,
   "outputs": [],
   "source": [
    "# read runoff observation from input folder\n",
    "obs_dir = os.path.join(data_dir, 'example', 'input', 'calibration')\n",
    "obs_file = 'vic_watch_basin_km3_1971_2001_monthly.csv'\n",
    "runoff_obs = pd.read_csv(os.path.join(obs_dir, obs_file))\n",
    "\n",
    "# xanthos coordinates\n",
    "coord = pd.DataFrame(data.coords[:, 1:3], columns=['lon', 'lat'])\n",
    "\n",
    "# we can get temperature input from loaded data\n",
    "# Load all input data using xanthos module `DataLoader`\n",
    "tas = data.tair_load\n",
    "\n",
    "# read example outputs\n",
    "output_dir = os.path.join(data_dir, 'example', 'output', 'pm_abcd_mrtm_watch_1971_2001')\n",
    "\n",
    "# runoff aggregated to basin scale\n",
    "runoff_basin_file = 'Basin_runoff_km3peryear_pm_abcd_mrtm_watch_1971_2001.csv'\n",
    "\n",
    "# runoff at 0.5 degree\n",
    "runoff_grid_file = 'q_km3peryear_pm_abcd_mrtm_watch_1971_2001.csv'\n",
    "\n",
    "# read runoff as data frame\n",
    "runoff_basin = pd.read_csv(os.path.join(output_dir, runoff_basin_file))\n",
    "runoff_grid = pd.read_csv(os.path.join(output_dir, runoff_grid_file))"
   ],
   "metadata": {
    "collapsed": false,
    "pycharm": {
     "name": "#%%\n"
    }
   }
  },
  {
   "cell_type": "markdown",
   "source": [
    "## Xanthos Input Examples"
   ],
   "metadata": {
    "collapsed": false,
    "pycharm": {
     "name": "#%% md\n"
    }
   }
  },
  {
   "cell_type": "markdown",
   "source": [
    "Global climate data usually are stored in netCDF files. `xanthos` requires climate inputs as numpy files (e.g., `.np`). If users want to provide different climate inputs from the example data, please convert the climate data to required format as [grid by year-month]. Standard Xanthos resolution is 0.5 degree, and there are 67420 inland grid cells in total by year-month."
   ],
   "metadata": {
    "collapsed": false,
    "pycharm": {
     "name": "#%% md\n"
    }
   }
  },
  {
   "cell_type": "code",
   "execution_count": null,
   "outputs": [],
   "source": [
    "# input climate data format requirement 2D array [67420 grid cells, year-month, ...]\n",
    "print(tas.shape)\n",
    "tas[1:5,]"
   ],
   "metadata": {
    "collapsed": false,
    "pycharm": {
     "name": "#%%\n"
    }
   }
  },
  {
   "cell_type": "code",
   "execution_count": null,
   "outputs": [],
   "source": [
    "# input climate data time series\n",
    "dfx = arr_to_df(arr=tas, stat='mean')\n",
    "plot_single_line(dfx=dfx,\n",
    "                 title='Global Mean Temperature',\n",
    "                 y_label='Degree C')"
   ],
   "metadata": {
    "collapsed": false,
    "pycharm": {
     "name": "#%%\n"
    }
   }
  },
  {
   "cell_type": "code",
   "execution_count": null,
   "outputs": [],
   "source": [
    "# spatial mean temperature across 1971 - 2001\n",
    "plot_map(arr=tas,\n",
    "         coord=coord,\n",
    "         legend_label='Temperature (degree C)',\n",
    "         cmap='RdBu')"
   ],
   "metadata": {
    "collapsed": false,
    "pycharm": {
     "name": "#%%\n"
    }
   }
  },
  {
   "cell_type": "code",
   "execution_count": null,
   "outputs": [],
   "source": [
    "# global observed runoff format requirement [basin, year, month, q]\n",
    "runoff_obs"
   ],
   "metadata": {
    "collapsed": false,
    "pycharm": {
     "name": "#%%\n"
    }
   }
  },
  {
   "cell_type": "markdown",
   "source": [
    "## Xanthos Output Structure"
   ],
   "metadata": {
    "collapsed": false,
    "pycharm": {
     "name": "#%% md\n"
    }
   }
  },
  {
   "cell_type": "markdown",
   "source": [
    "Xanthos outputs are at 0.5 degree resolution in CSV files. Some outputs (e.g., runoff) are also aggregated to GCAM region, basin, and country scale."
   ],
   "metadata": {
    "collapsed": false,
    "pycharm": {
     "name": "#%% md\n"
    }
   }
  },
  {
   "cell_type": "code",
   "execution_count": null,
   "outputs": [],
   "source": [
    "# runoff at xanthos grid cells (67420 cells)\n",
    "print('The output is in the unit of', config.OutputUnitStr)\n",
    "runoff_grid"
   ],
   "metadata": {
    "collapsed": false,
    "pycharm": {
     "name": "#%%\n"
    }
   }
  },
  {
   "cell_type": "code",
   "execution_count": null,
   "outputs": [],
   "source": [
    "# runoff at basin scale (235 basins)\n",
    "print('The output is in the unit of', config.OutputUnitStr)\n",
    "runoff_basin"
   ],
   "metadata": {
    "collapsed": false,
    "pycharm": {
     "name": "#%%\n"
    }
   }
  },
  {
   "cell_type": "markdown",
   "source": [
    "## Output Visualization"
   ],
   "metadata": {
    "collapsed": false,
    "pycharm": {
     "name": "#%% md\n"
    }
   }
  },
  {
   "cell_type": "code",
   "execution_count": null,
   "outputs": [],
   "source": [
    "# Compare time series of simulation and observation for an individual basin\n",
    "df_plot = format_data(sim=runoff_basin,\n",
    "                      obs=runoff_obs,\n",
    "                      id=[217],\n",
    "                      from_yr=1972,\n",
    "                      through_yr=2001)\n",
    "plot_comparison(df_plot=df_plot,\n",
    "                y_label='Annual Runoff ($km^3$/year)')"
   ],
   "metadata": {
    "collapsed": false,
    "pycharm": {
     "name": "#%%\n"
    }
   }
  },
  {
   "cell_type": "code",
   "execution_count": null,
   "outputs": [],
   "source": [
    "# Compare time series of simulation and observation for all basins together\n",
    "df_plot = format_data(sim=runoff_basin,\n",
    "                      obs=runoff_obs,\n",
    "                      id='global',\n",
    "                      from_yr=1972,\n",
    "                      through_yr=2001)\n",
    "plot_comparison(df_plot=df_plot,\n",
    "                y_label='Annual Runoff ($km^3$/year)')"
   ],
   "metadata": {
    "collapsed": false,
    "pycharm": {
     "name": "#%%\n"
    }
   }
  },
  {
   "cell_type": "code",
   "execution_count": null,
   "outputs": [],
   "source": [
    "# Diagnostics with other global data\n",
    "runoff_diag = pd.read_csv(os.path.join(data_dir, \n",
    "                                       'example', 'output', 'pm_abcd_mrtm_watch_1971_2001', \n",
    "                                       'Diagnostics_Runoff_Basin_Scale_km3peryr.csv')).to_numpy()\n",
    "\n",
    "# plot diagnostics\n",
    "plot_diagnostics(data=runoff_diag[1:, 1:],\n",
    "                 titlestr='Basin')"
   ],
   "metadata": {
    "collapsed": false,
    "pycharm": {
     "name": "#%%\n"
    }
   }
  },
  {
   "cell_type": "code",
   "execution_count": null,
   "metadata": {
    "pycharm": {
     "name": "#%%\n"
    }
   },
   "outputs": [],
   "source": [
    "# spatial mean runoff across 1971 - 2001\n",
    "plot_map(arr=runoff_grid,\n",
    "         coord=coord,\n",
    "         legend_label='Runoff (km3/year)',\n",
    "         cmap='viridis')"
   ]
  }
 ],
 "metadata": {
  "kernelspec": {
   "display_name": "Python 3 (ipykernel)",
   "language": "python",
   "name": "python3"
  },
  "language_info": {
   "codemirror_mode": {
    "name": "ipython",
    "version": 3
   },
   "file_extension": ".py",
   "mimetype": "text/x-python",
   "name": "python",
   "nbconvert_exporter": "python",
   "pygments_lexer": "ipython3",
   "version": "3.9.12"
  }
 },
 "nbformat": 4,
 "nbformat_minor": 4
}