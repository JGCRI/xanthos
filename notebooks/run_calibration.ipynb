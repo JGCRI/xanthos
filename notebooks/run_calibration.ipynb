{
 "cells": [
  {
   "cell_type": "code",
   "execution_count": 1,
   "id": "0c5a908b-2a7f-4278-a516-bae80c6fe77a",
   "metadata": {},
   "outputs": [],
   "source": [
    "import os\n",
    "\n",
    "import xanthos\n",
    "\n",
    "import numpy as np\n",
    "import pandas as pd\n"
   ]
  },
  {
   "cell_type": "code",
   "execution_count": 3,
   "id": "897a34fd-c620-4975-919e-0f4811f51a71",
   "metadata": {},
   "outputs": [
    {
     "name": "stdout",
     "output_type": "stream",
     "text": [
      "Help on class Calibrate in module xanthos.calibrate.calibrate_abcd:\n",
      "\n",
      "class Calibrate(builtins.object)\n",
      " |  Calibrate(basin_num, basin_ids, basin_areas, precip, pet, obs, tmin, n_months, runoff_spinup, set_calibrate, obs_unit, out_dir, router_func=None)\n",
      " |  \n",
      " |  Calibrate the ABCD runoff module.\n",
      " |  \n",
      " |  Methods defined here:\n",
      " |  \n",
      " |  __init__(self, basin_num, basin_ids, basin_areas, precip, pet, obs, tmin, n_months, runoff_spinup, set_calibrate, obs_unit, out_dir, router_func=None)\n",
      " |      Initialize calibration data and parameters.\n",
      " |      \n",
      " |      :param basin_num:      basin number as an integer\n",
      " |      :param basin_ids:      an array of basin ids per grid cell that are associated with the basin\n",
      " |      :param basin_areas:    an array of basin areas per grid cell that are associated with the basin\n",
      " |      :param precip:         precipitation in mm/month\n",
      " |      :param pet:            PET in mm/month\n",
      " |      :param obs:            Observed runoff in mm/month\n",
      " |      :param tmin:           minimum temperature in degrees C\n",
      " |      :param n_months:       the number of months in processing period\n",
      " |      :param runoff_spinup:  the number of months from time 0 in the input data to use as spin up\n",
      " |      :param set_calibrate:  0 to calibrate to observed runoff, 1 to calibrate to observed streamflow\n",
      " |      :param obs_unit:       the unit of the input data\n",
      " |      :param out_dir:        calibrated parameters output directory\n",
      " |      :param router_func:    objective function for calibrating routing\n",
      " |  \n",
      " |  calibrate_basin(self, popsize=15, polish=False)\n",
      " |      Calibrate a basin.\n",
      " |      \n",
      " |      This function is to calibrate the distributed ABCD model against\n",
      " |      the target global hydrological model (GHM) to obtain optimized\n",
      " |      parameters (a, b, c, d, m).\n",
      " |      \n",
      " |      :param popsize:     default 15; the number of random samples you are taking in each generation.  Higher\n",
      " |                          should be better but takes longer\n",
      " |      :param polish:      default False; if True, uses the LBGFT at end to see if result can be improved\n",
      " |  \n",
      " |  ----------------------------------------------------------------------\n",
      " |  Data descriptors defined here:\n",
      " |  \n",
      " |  __dict__\n",
      " |      dictionary for instance variables (if defined)\n",
      " |  \n",
      " |  __weakref__\n",
      " |      list of weak references to the object (if defined)\n",
      "\n"
     ]
    }
   ],
   "source": [
    "from xanthos import Calibrate\n",
    "\n",
    "help(Calibrate)"
   ]
  },
  {
   "cell_type": "code",
   "execution_count": null,
   "id": "14f3134a-3de4-4cd1-b281-570fa8eafe22",
   "metadata": {},
   "outputs": [],
   "source": [
    "basin_num = 168\n",
    "basin_ids = "
   ]
  }
 ],
 "metadata": {
  "kernelspec": {
   "display_name": "py3.9.4_xanthos",
   "language": "python",
   "name": "py3.9.4_xanthos"
  },
  "language_info": {
   "codemirror_mode": {
    "name": "ipython",
    "version": 3
   },
   "file_extension": ".py",
   "mimetype": "text/x-python",
   "name": "python",
   "nbconvert_exporter": "python",
   "pygments_lexer": "ipython3",
   "version": "3.9.4"
  }
 },
 "nbformat": 4,
 "nbformat_minor": 5
}
